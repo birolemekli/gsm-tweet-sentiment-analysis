{
 "cells": [
  {
   "cell_type": "code",
   "execution_count": 1,
   "metadata": {},
   "outputs": [],
   "source": [
    "%config IPCompleter.greedy=True\n",
    "import numpy as np # linear algebra\n",
    "import pandas as pd # data processing, CSV file I/O (e.g. pd.read_csv)\n"
   ]
  },
  {
   "cell_type": "code",
   "execution_count": 2,
   "metadata": {},
   "outputs": [
    {
     "name": "stderr",
     "output_type": "stream",
     "text": [
      "Using TensorFlow backend.\n",
      "C:\\Users\\Python\\Anaconda3\\lib\\site-packages\\tensorflow\\python\\framework\\dtypes.py:523: FutureWarning: Passing (type, 1) or '1type' as a synonym of type is deprecated; in a future version of numpy, it will be understood as (type, (1,)) / '(1,)type'.\n",
      "  _np_qint8 = np.dtype([(\"qint8\", np.int8, 1)])\n",
      "C:\\Users\\Python\\Anaconda3\\lib\\site-packages\\tensorflow\\python\\framework\\dtypes.py:524: FutureWarning: Passing (type, 1) or '1type' as a synonym of type is deprecated; in a future version of numpy, it will be understood as (type, (1,)) / '(1,)type'.\n",
      "  _np_quint8 = np.dtype([(\"quint8\", np.uint8, 1)])\n",
      "C:\\Users\\Python\\Anaconda3\\lib\\site-packages\\tensorflow\\python\\framework\\dtypes.py:525: FutureWarning: Passing (type, 1) or '1type' as a synonym of type is deprecated; in a future version of numpy, it will be understood as (type, (1,)) / '(1,)type'.\n",
      "  _np_qint16 = np.dtype([(\"qint16\", np.int16, 1)])\n",
      "C:\\Users\\Python\\Anaconda3\\lib\\site-packages\\tensorflow\\python\\framework\\dtypes.py:526: FutureWarning: Passing (type, 1) or '1type' as a synonym of type is deprecated; in a future version of numpy, it will be understood as (type, (1,)) / '(1,)type'.\n",
      "  _np_quint16 = np.dtype([(\"quint16\", np.uint16, 1)])\n",
      "C:\\Users\\Python\\Anaconda3\\lib\\site-packages\\tensorflow\\python\\framework\\dtypes.py:527: FutureWarning: Passing (type, 1) or '1type' as a synonym of type is deprecated; in a future version of numpy, it will be understood as (type, (1,)) / '(1,)type'.\n",
      "  _np_qint32 = np.dtype([(\"qint32\", np.int32, 1)])\n",
      "C:\\Users\\Python\\Anaconda3\\lib\\site-packages\\tensorflow\\python\\framework\\dtypes.py:532: FutureWarning: Passing (type, 1) or '1type' as a synonym of type is deprecated; in a future version of numpy, it will be understood as (type, (1,)) / '(1,)type'.\n",
      "  np_resource = np.dtype([(\"resource\", np.ubyte, 1)])\n"
     ]
    }
   ],
   "source": [
    "from keras.preprocessing.text import Tokenizer\n",
    "from keras.preprocessing import sequence,text\n",
    "from sklearn.preprocessing import LabelEncoder\n",
    "from sklearn.utils import shuffle\n"
   ]
  },
  {
   "cell_type": "code",
   "execution_count": 3,
   "metadata": {},
   "outputs": [
    {
     "data": {
      "text/html": [
       "<div>\n",
       "<style scoped>\n",
       "    .dataframe tbody tr th:only-of-type {\n",
       "        vertical-align: middle;\n",
       "    }\n",
       "\n",
       "    .dataframe tbody tr th {\n",
       "        vertical-align: top;\n",
       "    }\n",
       "\n",
       "    .dataframe thead th {\n",
       "        text-align: right;\n",
       "    }\n",
       "</style>\n",
       "<table border=\"1\" class=\"dataframe\">\n",
       "  <thead>\n",
       "    <tr style=\"text-align: right;\">\n",
       "      <th></th>\n",
       "      <th>tweet</th>\n",
       "      <th>tags</th>\n",
       "    </tr>\n",
       "  </thead>\n",
       "  <tbody>\n",
       "    <tr>\n",
       "      <th>50</th>\n",
       "      <td>arıyoruz insana ulaşamıyoruz komple ailecek vo...</td>\n",
       "      <td>negatif</td>\n",
       "    </tr>\n",
       "    <tr>\n",
       "      <th>871</th>\n",
       "      <td>yaptığınız kampanyadan internetin hızı düştü d...</td>\n",
       "      <td>negatif</td>\n",
       "    </tr>\n",
       "    <tr>\n",
       "      <th>981</th>\n",
       "      <td>turkcell hakkını yedirmem</td>\n",
       "      <td>pozitif</td>\n",
       "    </tr>\n",
       "    <tr>\n",
       "      <th>465</th>\n",
       "      <td>vodafone operatörün internet çekmez ararım doğ...</td>\n",
       "      <td>negatif</td>\n",
       "    </tr>\n",
       "    <tr>\n",
       "      <th>788</th>\n",
       "      <td>türkiyenin büyük soygun gasp dolandırıcılık çe...</td>\n",
       "      <td>negatif</td>\n",
       "    </tr>\n",
       "  </tbody>\n",
       "</table>\n",
       "</div>"
      ],
      "text/plain": [
       "                                                 tweet     tags\n",
       "50   arıyoruz insana ulaşamıyoruz komple ailecek vo...  negatif\n",
       "871  yaptığınız kampanyadan internetin hızı düştü d...  negatif\n",
       "981                          turkcell hakkını yedirmem  pozitif\n",
       "465  vodafone operatörün internet çekmez ararım doğ...  negatif\n",
       "788  türkiyenin büyük soygun gasp dolandırıcılık çe...  negatif"
      ]
     },
     "execution_count": 3,
     "metadata": {},
     "output_type": "execute_result"
    }
   ],
   "source": [
    "# Data yükleme, boş satıları silme, aynı satıları temizleme, silinen satırlardan dolayı bozulan indexsi yeniden yaratma\n",
    "filename=\"hepsi\"\n",
    "data = pd.read_excel('./'+filename+'.xlsx')\n",
    "data.dropna( inplace = True)\n",
    "duplicateDFRow = data[data.duplicated(['tweet'])]\n",
    "data.drop_duplicates(subset =\"tweet\",keep = False, inplace = True)\n",
    "data = data.reset_index(drop=True)\n",
    "tags = data[\"tags\"]\n",
    "texts = data[\"tweet\"]\n",
    "data = shuffle(data)\n",
    "data.head()"
   ]
  },
  {
   "cell_type": "code",
   "execution_count": 4,
   "metadata": {},
   "outputs": [
    {
     "data": {
      "text/plain": [
       "1671"
      ]
     },
     "execution_count": 4,
     "metadata": {},
     "output_type": "execute_result"
    }
   ],
   "source": [
    "len(data)"
   ]
  },
  {
   "cell_type": "code",
   "execution_count": 5,
   "metadata": {},
   "outputs": [
    {
     "name": "stdout",
     "output_type": "stream",
     "text": [
      "Negatif count 1420\n",
      "Pozitif count 251\n"
     ]
    }
   ],
   "source": [
    "h=data['tags']=='negatif'\n",
    "print(\"Negatif count\" ,len(data[h]))\n",
    "h=data['tags']=='pozitif'\n",
    "print(\"Pozitif count\" ,len(data[h]))"
   ]
  },
  {
   "cell_type": "code",
   "execution_count": 6,
   "metadata": {},
   "outputs": [],
   "source": [
    "### Tagsleri 0 ve 1 yapma\n",
    "le = LabelEncoder()\n",
    "tags = le.fit_transform(tags)\n"
   ]
  },
  {
   "cell_type": "code",
   "execution_count": 7,
   "metadata": {},
   "outputs": [],
   "source": [
    "# Kelime numalarandırmada en büyük sayı\n",
    "num_max = 10000\n",
    "## The process of enumerating words\n",
    "tok = Tokenizer(num_words=num_max)\n",
    "tok.fit_on_texts(texts)\n"
   ]
  },
  {
   "cell_type": "code",
   "execution_count": 8,
   "metadata": {},
   "outputs": [],
   "source": [
    "# En uzun tweet ve farklı kelime sayısı\n",
    "max_len = 15\n",
    "vocab_size=10000\n"
   ]
  },
  {
   "cell_type": "code",
   "execution_count": 9,
   "metadata": {},
   "outputs": [
    {
     "name": "stdout",
     "output_type": "stream",
     "text": [
      "karantina bitince ilk isim vodafone aboneliğinden çıkmak açılmıyor vodafone yanımda uygulamasına giremiyorum yardım edin\n",
      "171\n",
      "790\n",
      "42\n",
      "353\n",
      "1\n",
      "1167\n",
      "1168\n",
      "486\n",
      "1\n",
      "32\n",
      "293\n",
      "294\n",
      "200\n",
      "201\n"
     ]
    }
   ],
   "source": [
    "# For example, how to enumerate words\n",
    "print(texts[10])\n",
    "\n",
    "for item in texts[10].split():    \n",
    "    print(tok.word_index[item])\n",
    "\n"
   ]
  },
  {
   "cell_type": "code",
   "execution_count": 10,
   "metadata": {},
   "outputs": [],
   "source": [
    "## Tüm tweetleri numaralandırma\n",
    "cnn_texts_seq = tok.texts_to_sequences(texts)\n"
   ]
  },
  {
   "cell_type": "code",
   "execution_count": 11,
   "metadata": {},
   "outputs": [
    {
     "name": "stdout",
     "output_type": "stream",
     "text": [
      "***************************************************\n",
      "arıyoruz insana ulaşamıyoruz komple ailecek vodafone çıkalım istiyorsunuz numaranızı farklı operatöre taşıdık fatura geliyor konu hakkında yardımcı olun yasal yollara başvuracağım bilginize\n",
      "[ 817 1206  363   71 2120   31  206  500  614   62  155 2121 2122  818\n",
      " 2123]\n",
      "***************************************************\n"
     ]
    }
   ],
   "source": [
    "# Numaralandırılmış tweetleri belirli bir uzunluğa getirme snra padding\n",
    "cnn_texts_mat = sequence.pad_sequences(cnn_texts_seq,maxlen=max_len,padding='post')\n",
    "\n",
    "# Örnek\n",
    "print('***************************************************')\n",
    "print(texts[50])\n",
    "print(cnn_texts_mat[50])\n",
    "print('***************************************************')\n"
   ]
  },
  {
   "cell_type": "code",
   "execution_count": 12,
   "metadata": {},
   "outputs": [],
   "source": [
    "# Hiç eğitime dahil etmeden test için veri ayırma\n",
    "from sklearn.model_selection import train_test_split\n",
    "X_train,X_test,y_train,y_test=train_test_split(cnn_texts_mat,tags,test_size=0.1)\n"
   ]
  },
  {
   "cell_type": "code",
   "execution_count": 13,
   "metadata": {},
   "outputs": [],
   "source": [
    "df = pd.DataFrame (X_train)\n",
    "df.to_excel(filename+'-X_train.xlsx', index=False)\n",
    "\n",
    "df = pd.DataFrame (X_test)\n",
    "df.to_excel(filename+'-X_test.xlsx', index=False)\n",
    "           \n",
    "df = pd.DataFrame (y_train)\n",
    "df.to_excel(filename+'-y_train.xlsx', index=False)\n",
    "\n",
    "df = pd.DataFrame (y_test)\n",
    "df.to_excel(filename+'-y_test.xlsx', index=False)"
   ]
  },
  {
   "cell_type": "code",
   "execution_count": 14,
   "metadata": {},
   "outputs": [
    {
     "data": {
      "text/plain": [
       "168"
      ]
     },
     "execution_count": 14,
     "metadata": {},
     "output_type": "execute_result"
    }
   ],
   "source": [
    "len(df)"
   ]
  },
  {
   "cell_type": "code",
   "execution_count": 22,
   "metadata": {},
   "outputs": [],
   "source": [
    "df = pd.DataFrame (X_train,y_train)"
   ]
  },
  {
   "cell_type": "code",
   "execution_count": null,
   "metadata": {},
   "outputs": [],
   "source": []
  }
 ],
 "metadata": {
  "kernelspec": {
   "display_name": "Python 3",
   "language": "python",
   "name": "python3"
  },
  "language_info": {
   "codemirror_mode": {
    "name": "ipython",
    "version": 3
   },
   "file_extension": ".py",
   "mimetype": "text/x-python",
   "name": "python",
   "nbconvert_exporter": "python",
   "pygments_lexer": "ipython3",
   "version": "3.6.8"
  },
  "widgets": {
   "application/vnd.jupyter.widget-state+json": {
    "state": {},
    "version_major": 2,
    "version_minor": 0
   }
  }
 },
 "nbformat": 4,
 "nbformat_minor": 2
}
