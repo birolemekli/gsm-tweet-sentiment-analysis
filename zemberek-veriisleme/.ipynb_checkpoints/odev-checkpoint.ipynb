{
 "cells": [
  {
   "cell_type": "code",
   "execution_count": 2,
   "metadata": {},
   "outputs": [],
   "source": [
    "##Fatih Can Okan G150102306\n",
    "##Mehmet Oğuzhan Paksoy G170102350\n",
    "##Erhan Altıntaş G150102304 \n",
    "##Kovid 19 verileri ile lineer regresyon yöntemini kullanarak tahminleme yapma "
   ]
  },
  {
   "cell_type": "code",
   "execution_count": null,
   "metadata": {},
   "outputs": [],
   "source": [
    "import numpy as np\n",
    "import pandas as pd\n",
    "import matplotlib.pyplot as plt\n",
    "from sklearn.model_selection import train_test_split \n",
    "from sklearn.metrics import confusion_matrix, classification_report, accuracy_score\n",
    "from sklearn.model_selection import train_test_split\n",
    "from sklearn.linear_model import LinearRegression\n",
    "from sklearn.metrics import r2_score, mean_absolute_error, mean_squared_error"
   ]
  },
  {
   "cell_type": "code",
   "execution_count": 3,
   "metadata": {},
   "outputs": [
    {
     "data": {
      "text/html": [
       "<div>\n",
       "<style scoped>\n",
       "    .dataframe tbody tr th:only-of-type {\n",
       "        vertical-align: middle;\n",
       "    }\n",
       "\n",
       "    .dataframe tbody tr th {\n",
       "        vertical-align: top;\n",
       "    }\n",
       "\n",
       "    .dataframe thead th {\n",
       "        text-align: right;\n",
       "    }\n",
       "</style>\n",
       "<table border=\"1\" class=\"dataframe\">\n",
       "  <thead>\n",
       "    <tr style=\"text-align: right;\">\n",
       "      <th></th>\n",
       "      <th>Province/State</th>\n",
       "      <th>Country/Region</th>\n",
       "      <th>Confirmed</th>\n",
       "      <th>Deaths</th>\n",
       "      <th>Recovered</th>\n",
       "      <th>Last_Update</th>\n",
       "    </tr>\n",
       "  </thead>\n",
       "  <tbody>\n",
       "    <tr>\n",
       "      <td>0</td>\n",
       "      <td>NaN</td>\n",
       "      <td>Turkey</td>\n",
       "      <td>1</td>\n",
       "      <td>0</td>\n",
       "      <td>0</td>\n",
       "      <td>3/11/2020</td>\n",
       "    </tr>\n",
       "    <tr>\n",
       "      <td>1</td>\n",
       "      <td>NaN</td>\n",
       "      <td>Turkey</td>\n",
       "      <td>1</td>\n",
       "      <td>0</td>\n",
       "      <td>0</td>\n",
       "      <td>3/12/2020</td>\n",
       "    </tr>\n",
       "    <tr>\n",
       "      <td>2</td>\n",
       "      <td>NaN</td>\n",
       "      <td>Turkey</td>\n",
       "      <td>5</td>\n",
       "      <td>0</td>\n",
       "      <td>0</td>\n",
       "      <td>3/13/2020</td>\n",
       "    </tr>\n",
       "    <tr>\n",
       "      <td>3</td>\n",
       "      <td>NaN</td>\n",
       "      <td>Turkey</td>\n",
       "      <td>5</td>\n",
       "      <td>0</td>\n",
       "      <td>0</td>\n",
       "      <td>3/14/2020</td>\n",
       "    </tr>\n",
       "    <tr>\n",
       "      <td>4</td>\n",
       "      <td>NaN</td>\n",
       "      <td>Turkey</td>\n",
       "      <td>18</td>\n",
       "      <td>0</td>\n",
       "      <td>0</td>\n",
       "      <td>3/15/2020</td>\n",
       "    </tr>\n",
       "    <tr>\n",
       "      <td>5</td>\n",
       "      <td>NaN</td>\n",
       "      <td>Turkey</td>\n",
       "      <td>47</td>\n",
       "      <td>0</td>\n",
       "      <td>0</td>\n",
       "      <td>3/16/2020</td>\n",
       "    </tr>\n",
       "    <tr>\n",
       "      <td>6</td>\n",
       "      <td>NaN</td>\n",
       "      <td>Turkey</td>\n",
       "      <td>98</td>\n",
       "      <td>1</td>\n",
       "      <td>0</td>\n",
       "      <td>3/17/2020</td>\n",
       "    </tr>\n",
       "    <tr>\n",
       "      <td>7</td>\n",
       "      <td>NaN</td>\n",
       "      <td>Turkey</td>\n",
       "      <td>191</td>\n",
       "      <td>2</td>\n",
       "      <td>0</td>\n",
       "      <td>3/18/2020</td>\n",
       "    </tr>\n",
       "    <tr>\n",
       "      <td>8</td>\n",
       "      <td>NaN</td>\n",
       "      <td>Turkey</td>\n",
       "      <td>359</td>\n",
       "      <td>4</td>\n",
       "      <td>0</td>\n",
       "      <td>3/19/2020</td>\n",
       "    </tr>\n",
       "    <tr>\n",
       "      <td>9</td>\n",
       "      <td>NaN</td>\n",
       "      <td>Turkey</td>\n",
       "      <td>670</td>\n",
       "      <td>9</td>\n",
       "      <td>0</td>\n",
       "      <td>3/20/2020</td>\n",
       "    </tr>\n",
       "    <tr>\n",
       "      <td>10</td>\n",
       "      <td>NaN</td>\n",
       "      <td>Turkey</td>\n",
       "      <td>947</td>\n",
       "      <td>21</td>\n",
       "      <td>0</td>\n",
       "      <td>3/21/2020</td>\n",
       "    </tr>\n",
       "    <tr>\n",
       "      <td>11</td>\n",
       "      <td>NaN</td>\n",
       "      <td>Turkey</td>\n",
       "      <td>1236</td>\n",
       "      <td>30</td>\n",
       "      <td>0</td>\n",
       "      <td>3/22/2020</td>\n",
       "    </tr>\n",
       "    <tr>\n",
       "      <td>12</td>\n",
       "      <td>NaN</td>\n",
       "      <td>Turkey</td>\n",
       "      <td>1529</td>\n",
       "      <td>37</td>\n",
       "      <td>0</td>\n",
       "      <td>3/23/2020</td>\n",
       "    </tr>\n",
       "    <tr>\n",
       "      <td>13</td>\n",
       "      <td>NaN</td>\n",
       "      <td>Turkey</td>\n",
       "      <td>1872</td>\n",
       "      <td>44</td>\n",
       "      <td>0</td>\n",
       "      <td>3/24/2020</td>\n",
       "    </tr>\n",
       "    <tr>\n",
       "      <td>14</td>\n",
       "      <td>NaN</td>\n",
       "      <td>Turkey</td>\n",
       "      <td>2433</td>\n",
       "      <td>59</td>\n",
       "      <td>26</td>\n",
       "      <td>3/25/2020</td>\n",
       "    </tr>\n",
       "    <tr>\n",
       "      <td>15</td>\n",
       "      <td>NaN</td>\n",
       "      <td>Turkey</td>\n",
       "      <td>3629</td>\n",
       "      <td>75</td>\n",
       "      <td>26</td>\n",
       "      <td>3/26/2020</td>\n",
       "    </tr>\n",
       "    <tr>\n",
       "      <td>16</td>\n",
       "      <td>NaN</td>\n",
       "      <td>Turkey</td>\n",
       "      <td>5698</td>\n",
       "      <td>92</td>\n",
       "      <td>42</td>\n",
       "      <td>3/27/2020</td>\n",
       "    </tr>\n",
       "    <tr>\n",
       "      <td>17</td>\n",
       "      <td>NaN</td>\n",
       "      <td>Turkey</td>\n",
       "      <td>7402</td>\n",
       "      <td>108</td>\n",
       "      <td>70</td>\n",
       "      <td>3/28/2020</td>\n",
       "    </tr>\n",
       "    <tr>\n",
       "      <td>18</td>\n",
       "      <td>NaN</td>\n",
       "      <td>Turkey</td>\n",
       "      <td>9217</td>\n",
       "      <td>131</td>\n",
       "      <td>105</td>\n",
       "      <td>3/29/2020</td>\n",
       "    </tr>\n",
       "    <tr>\n",
       "      <td>19</td>\n",
       "      <td>NaN</td>\n",
       "      <td>Turkey</td>\n",
       "      <td>10827</td>\n",
       "      <td>168</td>\n",
       "      <td>162</td>\n",
       "      <td>3/30/2020</td>\n",
       "    </tr>\n",
       "    <tr>\n",
       "      <td>20</td>\n",
       "      <td>NaN</td>\n",
       "      <td>Turkey</td>\n",
       "      <td>13531</td>\n",
       "      <td>214</td>\n",
       "      <td>243</td>\n",
       "      <td>3/31/2020</td>\n",
       "    </tr>\n",
       "    <tr>\n",
       "      <td>21</td>\n",
       "      <td>NaN</td>\n",
       "      <td>Turkey</td>\n",
       "      <td>15679</td>\n",
       "      <td>277</td>\n",
       "      <td>333</td>\n",
       "      <td>4/1/2020</td>\n",
       "    </tr>\n",
       "    <tr>\n",
       "      <td>22</td>\n",
       "      <td>NaN</td>\n",
       "      <td>Turkey</td>\n",
       "      <td>18135</td>\n",
       "      <td>356</td>\n",
       "      <td>415</td>\n",
       "      <td>4/2/2020</td>\n",
       "    </tr>\n",
       "    <tr>\n",
       "      <td>23</td>\n",
       "      <td>NaN</td>\n",
       "      <td>Turkey</td>\n",
       "      <td>20921</td>\n",
       "      <td>425</td>\n",
       "      <td>484</td>\n",
       "      <td>4/3/2020</td>\n",
       "    </tr>\n",
       "    <tr>\n",
       "      <td>24</td>\n",
       "      <td>NaN</td>\n",
       "      <td>Turkey</td>\n",
       "      <td>23934</td>\n",
       "      <td>501</td>\n",
       "      <td>786</td>\n",
       "      <td>4/4/2020</td>\n",
       "    </tr>\n",
       "    <tr>\n",
       "      <td>25</td>\n",
       "      <td>NaN</td>\n",
       "      <td>Turkey</td>\n",
       "      <td>27069</td>\n",
       "      <td>574</td>\n",
       "      <td>1042</td>\n",
       "      <td>4/5/2020</td>\n",
       "    </tr>\n",
       "    <tr>\n",
       "      <td>26</td>\n",
       "      <td>NaN</td>\n",
       "      <td>Turkey</td>\n",
       "      <td>30217</td>\n",
       "      <td>649</td>\n",
       "      <td>1326</td>\n",
       "      <td>4/6/2020</td>\n",
       "    </tr>\n",
       "    <tr>\n",
       "      <td>27</td>\n",
       "      <td>NaN</td>\n",
       "      <td>Turkey</td>\n",
       "      <td>34109</td>\n",
       "      <td>725</td>\n",
       "      <td>1582</td>\n",
       "      <td>4/7/2020</td>\n",
       "    </tr>\n",
       "    <tr>\n",
       "      <td>28</td>\n",
       "      <td>NaN</td>\n",
       "      <td>Turkey</td>\n",
       "      <td>38226</td>\n",
       "      <td>812</td>\n",
       "      <td>1846</td>\n",
       "      <td>4/8/2020</td>\n",
       "    </tr>\n",
       "    <tr>\n",
       "      <td>29</td>\n",
       "      <td>NaN</td>\n",
       "      <td>Turkey</td>\n",
       "      <td>42282</td>\n",
       "      <td>908</td>\n",
       "      <td>2142</td>\n",
       "      <td>4/9/2020</td>\n",
       "    </tr>\n",
       "    <tr>\n",
       "      <td>30</td>\n",
       "      <td>NaN</td>\n",
       "      <td>Turkey</td>\n",
       "      <td>47029</td>\n",
       "      <td>1006</td>\n",
       "      <td>2423</td>\n",
       "      <td>4/10/2020</td>\n",
       "    </tr>\n",
       "    <tr>\n",
       "      <td>31</td>\n",
       "      <td>NaN</td>\n",
       "      <td>Turkey</td>\n",
       "      <td>52167</td>\n",
       "      <td>1101</td>\n",
       "      <td>2965</td>\n",
       "      <td>4/11/2020</td>\n",
       "    </tr>\n",
       "    <tr>\n",
       "      <td>32</td>\n",
       "      <td>NaN</td>\n",
       "      <td>Turkey</td>\n",
       "      <td>56956</td>\n",
       "      <td>1198</td>\n",
       "      <td>3446</td>\n",
       "      <td>4/12/2020</td>\n",
       "    </tr>\n",
       "    <tr>\n",
       "      <td>33</td>\n",
       "      <td>NaN</td>\n",
       "      <td>Turkey</td>\n",
       "      <td>61049</td>\n",
       "      <td>1296</td>\n",
       "      <td>3957</td>\n",
       "      <td>4/13/2020</td>\n",
       "    </tr>\n",
       "    <tr>\n",
       "      <td>34</td>\n",
       "      <td>NaN</td>\n",
       "      <td>Turkey</td>\n",
       "      <td>65111</td>\n",
       "      <td>1403</td>\n",
       "      <td>4799</td>\n",
       "      <td>4/14/2020</td>\n",
       "    </tr>\n",
       "    <tr>\n",
       "      <td>35</td>\n",
       "      <td>NaN</td>\n",
       "      <td>Turkey</td>\n",
       "      <td>69392</td>\n",
       "      <td>1518</td>\n",
       "      <td>5674</td>\n",
       "      <td>4/15/2020</td>\n",
       "    </tr>\n",
       "    <tr>\n",
       "      <td>36</td>\n",
       "      <td>NaN</td>\n",
       "      <td>Turkey</td>\n",
       "      <td>74193</td>\n",
       "      <td>1643</td>\n",
       "      <td>7089</td>\n",
       "      <td>4/16/2020</td>\n",
       "    </tr>\n",
       "    <tr>\n",
       "      <td>37</td>\n",
       "      <td>NaN</td>\n",
       "      <td>Turkey</td>\n",
       "      <td>78546</td>\n",
       "      <td>1769</td>\n",
       "      <td>8631</td>\n",
       "      <td>4/17/2020</td>\n",
       "    </tr>\n",
       "    <tr>\n",
       "      <td>38</td>\n",
       "      <td>NaN</td>\n",
       "      <td>Turkey</td>\n",
       "      <td>82329</td>\n",
       "      <td>1890</td>\n",
       "      <td>10453</td>\n",
       "      <td>4/18/2020</td>\n",
       "    </tr>\n",
       "    <tr>\n",
       "      <td>39</td>\n",
       "      <td>NaN</td>\n",
       "      <td>Turkey</td>\n",
       "      <td>86306</td>\n",
       "      <td>2017</td>\n",
       "      <td>11976</td>\n",
       "      <td>4/19/2020</td>\n",
       "    </tr>\n",
       "    <tr>\n",
       "      <td>40</td>\n",
       "      <td>NaN</td>\n",
       "      <td>Turkey</td>\n",
       "      <td>90980</td>\n",
       "      <td>2140</td>\n",
       "      <td>13430</td>\n",
       "      <td>4/20/2020</td>\n",
       "    </tr>\n",
       "    <tr>\n",
       "      <td>41</td>\n",
       "      <td>NaN</td>\n",
       "      <td>Turkey</td>\n",
       "      <td>95591</td>\n",
       "      <td>2259</td>\n",
       "      <td>14918</td>\n",
       "      <td>4/21/2020</td>\n",
       "    </tr>\n",
       "    <tr>\n",
       "      <td>42</td>\n",
       "      <td>NaN</td>\n",
       "      <td>Turkey</td>\n",
       "      <td>98674</td>\n",
       "      <td>2376</td>\n",
       "      <td>16477</td>\n",
       "      <td>4/22/2020</td>\n",
       "    </tr>\n",
       "    <tr>\n",
       "      <td>43</td>\n",
       "      <td>NaN</td>\n",
       "      <td>Turkey</td>\n",
       "      <td>101790</td>\n",
       "      <td>2491</td>\n",
       "      <td>18491</td>\n",
       "      <td>4/23/2020</td>\n",
       "    </tr>\n",
       "    <tr>\n",
       "      <td>44</td>\n",
       "      <td>NaN</td>\n",
       "      <td>Turkey</td>\n",
       "      <td>104912</td>\n",
       "      <td>2600</td>\n",
       "      <td>21737</td>\n",
       "      <td>4/24/2020</td>\n",
       "    </tr>\n",
       "    <tr>\n",
       "      <td>45</td>\n",
       "      <td>NaN</td>\n",
       "      <td>Turkey</td>\n",
       "      <td>107773</td>\n",
       "      <td>2706</td>\n",
       "      <td>25582</td>\n",
       "      <td>4/25/2020</td>\n",
       "    </tr>\n",
       "    <tr>\n",
       "      <td>46</td>\n",
       "      <td>NaN</td>\n",
       "      <td>Turkey</td>\n",
       "      <td>110130</td>\n",
       "      <td>2805</td>\n",
       "      <td>29140</td>\n",
       "      <td>4/26/2020</td>\n",
       "    </tr>\n",
       "    <tr>\n",
       "      <td>47</td>\n",
       "      <td>NaN</td>\n",
       "      <td>Turkey</td>\n",
       "      <td>112261</td>\n",
       "      <td>2900</td>\n",
       "      <td>33791</td>\n",
       "      <td>4/27/2020</td>\n",
       "    </tr>\n",
       "    <tr>\n",
       "      <td>48</td>\n",
       "      <td>NaN</td>\n",
       "      <td>Turkey</td>\n",
       "      <td>114653</td>\n",
       "      <td>2992</td>\n",
       "      <td>38809</td>\n",
       "      <td>4/28/2020</td>\n",
       "    </tr>\n",
       "    <tr>\n",
       "      <td>49</td>\n",
       "      <td>NaN</td>\n",
       "      <td>Turkey</td>\n",
       "      <td>117589</td>\n",
       "      <td>3018</td>\n",
       "      <td>44022</td>\n",
       "      <td>4/29/2020</td>\n",
       "    </tr>\n",
       "    <tr>\n",
       "      <td>50</td>\n",
       "      <td>NaN</td>\n",
       "      <td>Turkey</td>\n",
       "      <td>120204</td>\n",
       "      <td>3174</td>\n",
       "      <td>48886</td>\n",
       "      <td>4/30/2020</td>\n",
       "    </tr>\n",
       "    <tr>\n",
       "      <td>51</td>\n",
       "      <td>NaN</td>\n",
       "      <td>Turkey</td>\n",
       "      <td>122392</td>\n",
       "      <td>3258</td>\n",
       "      <td>53808</td>\n",
       "      <td>5/1/2020</td>\n",
       "    </tr>\n",
       "    <tr>\n",
       "      <td>52</td>\n",
       "      <td>NaN</td>\n",
       "      <td>Turkey</td>\n",
       "      <td>124375</td>\n",
       "      <td>3336</td>\n",
       "      <td>58259</td>\n",
       "      <td>5/2/2020</td>\n",
       "    </tr>\n",
       "    <tr>\n",
       "      <td>53</td>\n",
       "      <td>NaN</td>\n",
       "      <td>Turkey</td>\n",
       "      <td>126045</td>\n",
       "      <td>3397</td>\n",
       "      <td>63151</td>\n",
       "      <td>5/3/2020</td>\n",
       "    </tr>\n",
       "    <tr>\n",
       "      <td>54</td>\n",
       "      <td>NaN</td>\n",
       "      <td>Turkey</td>\n",
       "      <td>127659</td>\n",
       "      <td>3461</td>\n",
       "      <td>68166</td>\n",
       "      <td>5/4/2020</td>\n",
       "    </tr>\n",
       "    <tr>\n",
       "      <td>55</td>\n",
       "      <td>NaN</td>\n",
       "      <td>Turkey</td>\n",
       "      <td>129491</td>\n",
       "      <td>3520</td>\n",
       "      <td>73285</td>\n",
       "      <td>5/5/2020</td>\n",
       "    </tr>\n",
       "    <tr>\n",
       "      <td>56</td>\n",
       "      <td>NaN</td>\n",
       "      <td>Turkey</td>\n",
       "      <td>131744</td>\n",
       "      <td>3584</td>\n",
       "      <td>78202</td>\n",
       "      <td>5/6/2020</td>\n",
       "    </tr>\n",
       "  </tbody>\n",
       "</table>\n",
       "</div>"
      ],
      "text/plain": [
       "    Province/State Country/Region  Confirmed  Deaths  Recovered Last_Update\n",
       "0              NaN         Turkey          1       0          0   3/11/2020\n",
       "1              NaN         Turkey          1       0          0   3/12/2020\n",
       "2              NaN         Turkey          5       0          0   3/13/2020\n",
       "3              NaN         Turkey          5       0          0   3/14/2020\n",
       "4              NaN         Turkey         18       0          0   3/15/2020\n",
       "5              NaN         Turkey         47       0          0   3/16/2020\n",
       "6              NaN         Turkey         98       1          0   3/17/2020\n",
       "7              NaN         Turkey        191       2          0   3/18/2020\n",
       "8              NaN         Turkey        359       4          0   3/19/2020\n",
       "9              NaN         Turkey        670       9          0   3/20/2020\n",
       "10             NaN         Turkey        947      21          0   3/21/2020\n",
       "11             NaN         Turkey       1236      30          0   3/22/2020\n",
       "12             NaN         Turkey       1529      37          0   3/23/2020\n",
       "13             NaN         Turkey       1872      44          0   3/24/2020\n",
       "14             NaN         Turkey       2433      59         26   3/25/2020\n",
       "15             NaN         Turkey       3629      75         26   3/26/2020\n",
       "16             NaN         Turkey       5698      92         42   3/27/2020\n",
       "17             NaN         Turkey       7402     108         70   3/28/2020\n",
       "18             NaN         Turkey       9217     131        105   3/29/2020\n",
       "19             NaN         Turkey      10827     168        162   3/30/2020\n",
       "20             NaN         Turkey      13531     214        243   3/31/2020\n",
       "21             NaN         Turkey      15679     277        333    4/1/2020\n",
       "22             NaN         Turkey      18135     356        415    4/2/2020\n",
       "23             NaN         Turkey      20921     425        484    4/3/2020\n",
       "24             NaN         Turkey      23934     501        786    4/4/2020\n",
       "25             NaN         Turkey      27069     574       1042    4/5/2020\n",
       "26             NaN         Turkey      30217     649       1326    4/6/2020\n",
       "27             NaN         Turkey      34109     725       1582    4/7/2020\n",
       "28             NaN         Turkey      38226     812       1846    4/8/2020\n",
       "29             NaN         Turkey      42282     908       2142    4/9/2020\n",
       "30             NaN         Turkey      47029    1006       2423   4/10/2020\n",
       "31             NaN         Turkey      52167    1101       2965   4/11/2020\n",
       "32             NaN         Turkey      56956    1198       3446   4/12/2020\n",
       "33             NaN         Turkey      61049    1296       3957   4/13/2020\n",
       "34             NaN         Turkey      65111    1403       4799   4/14/2020\n",
       "35             NaN         Turkey      69392    1518       5674   4/15/2020\n",
       "36             NaN         Turkey      74193    1643       7089   4/16/2020\n",
       "37             NaN         Turkey      78546    1769       8631   4/17/2020\n",
       "38             NaN         Turkey      82329    1890      10453   4/18/2020\n",
       "39             NaN         Turkey      86306    2017      11976   4/19/2020\n",
       "40             NaN         Turkey      90980    2140      13430   4/20/2020\n",
       "41             NaN         Turkey      95591    2259      14918   4/21/2020\n",
       "42             NaN         Turkey      98674    2376      16477   4/22/2020\n",
       "43             NaN         Turkey     101790    2491      18491   4/23/2020\n",
       "44             NaN         Turkey     104912    2600      21737   4/24/2020\n",
       "45             NaN         Turkey     107773    2706      25582   4/25/2020\n",
       "46             NaN         Turkey     110130    2805      29140   4/26/2020\n",
       "47             NaN         Turkey     112261    2900      33791   4/27/2020\n",
       "48             NaN         Turkey     114653    2992      38809   4/28/2020\n",
       "49             NaN         Turkey     117589    3018      44022   4/29/2020\n",
       "50             NaN         Turkey     120204    3174      48886   4/30/2020\n",
       "51             NaN         Turkey     122392    3258      53808    5/1/2020\n",
       "52             NaN         Turkey     124375    3336      58259    5/2/2020\n",
       "53             NaN         Turkey     126045    3397      63151    5/3/2020\n",
       "54             NaN         Turkey     127659    3461      68166    5/4/2020\n",
       "55             NaN         Turkey     129491    3520      73285    5/5/2020\n",
       "56             NaN         Turkey     131744    3584      78202    5/6/2020"
      ]
     },
     "execution_count": 3,
     "metadata": {},
     "output_type": "execute_result"
    }
   ],
   "source": [
    "#Türkiye korona virüs verileri \n",
    "data= pd.read_csv(\"covid_19_data_tr.csv\")\n",
    "data.head(57)"
   ]
  },
  {
   "cell_type": "code",
   "execution_count": 4,
   "metadata": {},
   "outputs": [
    {
     "data": {
      "text/html": [
       "<div>\n",
       "<style scoped>\n",
       "    .dataframe tbody tr th:only-of-type {\n",
       "        vertical-align: middle;\n",
       "    }\n",
       "\n",
       "    .dataframe tbody tr th {\n",
       "        vertical-align: top;\n",
       "    }\n",
       "\n",
       "    .dataframe thead th {\n",
       "        text-align: right;\n",
       "    }\n",
       "</style>\n",
       "<table border=\"1\" class=\"dataframe\">\n",
       "  <thead>\n",
       "    <tr style=\"text-align: right;\">\n",
       "      <th></th>\n",
       "      <th>Province/State</th>\n",
       "      <th>Confirmed</th>\n",
       "      <th>Deaths</th>\n",
       "      <th>Recovered</th>\n",
       "    </tr>\n",
       "  </thead>\n",
       "  <tbody>\n",
       "    <tr>\n",
       "      <td>count</td>\n",
       "      <td>0.0</td>\n",
       "      <td>57.000000</td>\n",
       "      <td>57.000000</td>\n",
       "      <td>57.000000</td>\n",
       "    </tr>\n",
       "    <tr>\n",
       "      <td>mean</td>\n",
       "      <td>NaN</td>\n",
       "      <td>51221.561404</td>\n",
       "      <td>1247.017544</td>\n",
       "      <td>13547.315789</td>\n",
       "    </tr>\n",
       "    <tr>\n",
       "      <td>std</td>\n",
       "      <td>NaN</td>\n",
       "      <td>47902.447931</td>\n",
       "      <td>1257.041985</td>\n",
       "      <td>21715.158751</td>\n",
       "    </tr>\n",
       "    <tr>\n",
       "      <td>min</td>\n",
       "      <td>NaN</td>\n",
       "      <td>1.000000</td>\n",
       "      <td>0.000000</td>\n",
       "      <td>0.000000</td>\n",
       "    </tr>\n",
       "    <tr>\n",
       "      <td>25%</td>\n",
       "      <td>NaN</td>\n",
       "      <td>2433.000000</td>\n",
       "      <td>59.000000</td>\n",
       "      <td>26.000000</td>\n",
       "    </tr>\n",
       "    <tr>\n",
       "      <td>50%</td>\n",
       "      <td>NaN</td>\n",
       "      <td>38226.000000</td>\n",
       "      <td>812.000000</td>\n",
       "      <td>1846.000000</td>\n",
       "    </tr>\n",
       "    <tr>\n",
       "      <td>75%</td>\n",
       "      <td>NaN</td>\n",
       "      <td>98674.000000</td>\n",
       "      <td>2376.000000</td>\n",
       "      <td>16477.000000</td>\n",
       "    </tr>\n",
       "    <tr>\n",
       "      <td>max</td>\n",
       "      <td>NaN</td>\n",
       "      <td>131744.000000</td>\n",
       "      <td>3584.000000</td>\n",
       "      <td>78202.000000</td>\n",
       "    </tr>\n",
       "  </tbody>\n",
       "</table>\n",
       "</div>"
      ],
      "text/plain": [
       "       Province/State      Confirmed       Deaths     Recovered\n",
       "count             0.0      57.000000    57.000000     57.000000\n",
       "mean              NaN   51221.561404  1247.017544  13547.315789\n",
       "std               NaN   47902.447931  1257.041985  21715.158751\n",
       "min               NaN       1.000000     0.000000      0.000000\n",
       "25%               NaN    2433.000000    59.000000     26.000000\n",
       "50%               NaN   38226.000000   812.000000   1846.000000\n",
       "75%               NaN   98674.000000  2376.000000  16477.000000\n",
       "max               NaN  131744.000000  3584.000000  78202.000000"
      ]
     },
     "execution_count": 4,
     "metadata": {},
     "output_type": "execute_result"
    }
   ],
   "source": [
    "data.describe()"
   ]
  },
  {
   "cell_type": "code",
   "execution_count": 5,
   "metadata": {},
   "outputs": [],
   "source": [
    "# vaka sayısı ve ölüm oranları arasındaki ilişki bulmak için\n",
    "x=data.Confirmed\n",
    "y=data.Deaths"
   ]
  },
  {
   "cell_type": "code",
   "execution_count": 7,
   "metadata": {},
   "outputs": [
    {
     "data": {
      "text/plain": [
       "Text(0.5, 1.0, 'x ve y arasındaki ilişki')"
      ]
     },
     "execution_count": 7,
     "metadata": {},
     "output_type": "execute_result"
    },
    {
     "data": {
      "image/png": "[encoded data removed]",
      "text/plain": [
       "<Figure size 432x288 with 1 Axes>"
      ]
     },
     "metadata": {
      "needs_background": "light"
     },
     "output_type": "display_data"
    }
   ],
   "source": [
    "#x ve y arasındaki ilişki \n",
    "plt.scatter(x.values,y.values)\n",
    "plt.xlabel(\"x\")\n",
    "plt.ylabel(\"y\")\n",
    "plt.title(\"x ve y arasındaki ilişki\")"
   ]
  },
  {
   "cell_type": "code",
   "execution_count": 8,
   "metadata": {},
   "outputs": [
    {
     "data": {
      "text/plain": [
       "LinearRegression(copy_X=True, fit_intercept=True, n_jobs=None, normalize=False)"
      ]
     },
     "execution_count": 8,
     "metadata": {},
     "output_type": "execute_result"
    }
   ],
   "source": [
    "lineer_regresyon = LinearRegression()\n",
    "lineer_regresyon.fit(x.values.reshape(-1,1),y.values.reshape(-1,1))"
   ]
  },
  {
   "cell_type": "code",
   "execution_count": 9,
   "metadata": {},
   "outputs": [
    {
     "name": "stdout",
     "output_type": "stream",
     "text": [
      "[-90.70822946]\n",
      "[[0.02611646]]\n"
     ]
    }
   ],
   "source": [
    "print(lineer_regresyon.intercept_)\n",
    "print(lineer_regresyon.coef_)"
   ]
  },
  {
   "cell_type": "code",
   "execution_count": 10,
   "metadata": {},
   "outputs": [
    {
     "name": "stdout",
     "output_type": "stream",
     "text": [
      "Elde edilen regresyon modeli: Y=[-90.70822946]+[0.02611646]X\n"
     ]
    }
   ],
   "source": [
    "print(\"Elde edilen regresyon modeli: Y={}+{}X\".format(lineer_regresyon.intercept_,lineer_regresyon.coef_[0]))"
   ]
  },
  {
   "cell_type": "code",
   "execution_count": 11,
   "metadata": {},
   "outputs": [
    {
     "data": {
      "text/plain": [
       "0.9904770358014641"
      ]
     },
     "execution_count": 11,
     "metadata": {},
     "output_type": "execute_result"
    }
   ],
   "source": [
    "y_predicted = lineer_regresyon.predict(x.values.reshape(-1,1))\n",
    "r2_score(y,y_predicted)"
   ]
  },
  {
   "cell_type": "code",
   "execution_count": 12,
   "metadata": {},
   "outputs": [
    {
     "data": {
      "text/plain": [
       "array([[3349.97845503]])"
      ]
     },
     "execution_count": 12,
     "metadata": {},
     "output_type": "execute_result"
    }
   ],
   "source": [
    "# Türkiyede 131744 vaka olduğunda gerçekleşen ölüm 3584  \n",
    "# Türkiyede 131744 vaka olduğunda programın tahmin ettiği ölüm 3350\n",
    "# VAKA SAYISI VERİLDİĞİNDE ÖLÜ SAYISINI VEREN REGRESYON MODELİ  \n",
    "Y=lineer_regresyon.intercept_+lineer_regresyon.coef_*131744\n",
    "Y"
   ]
  },
  {
   "cell_type": "code",
   "execution_count": 16,
   "metadata": {},
   "outputs": [
    {
     "data": {
      "text/plain": [
       "Text(0, 0.5, 'Ölüm Sayısı')"
      ]
     },
     "execution_count": 16,
     "metadata": {},
     "output_type": "execute_result"
    },
    {
     "data": {
      "image/png": "[encoded data removed]",
      "text/plain": [
       "<Figure size 432x288 with 1 Axes>"
      ]
     },
     "metadata": {
      "needs_background": "light"
     },
     "output_type": "display_data"
    }
   ],
   "source": [
    "# VAKA SAYISI VE ÖLÜ SAYISI TAHMİNLEME GRAFİĞİ\n",
    "random_x=np.arange(0,150000,1)\n",
    "plt.plot(random_x,lineer_regresyon.intercept_[0]+lineer_regresyon.coef_[0]*random_x,color=\"red\",label=\"regresyon\")\n",
    "plt.scatter(x.values,y.values)\n",
    "plt.xlabel(\"Vaka Sayısı\",color=\"red\")\n",
    "plt.ylabel(\"Ölüm Sayısı\",color=\"red\")"
   ]
  },
  {
   "cell_type": "code",
   "execution_count": 17,
   "metadata": {},
   "outputs": [],
   "source": [
    "########################################################################"
   ]
  },
  {
   "cell_type": "code",
   "execution_count": 18,
   "metadata": {},
   "outputs": [
    {
     "data": {
      "text/plain": [
       "LinearRegression(copy_X=True, fit_intercept=True, n_jobs=None, normalize=False)"
      ]
     },
     "execution_count": 18,
     "metadata": {},
     "output_type": "execute_result"
    }
   ],
   "source": [
    "lineer_regresyon.fit(y.values.reshape(-1,1),x.values.reshape(-1,1))"
   ]
  },
  {
   "cell_type": "code",
   "execution_count": 19,
   "metadata": {},
   "outputs": [
    {
     "name": "stdout",
     "output_type": "stream",
     "text": [
      "Elde edilen regresyon modeli: Y=[3927.92665982]+[37.92539646]X\n"
     ]
    }
   ],
   "source": [
    "print(\"Elde edilen regresyon modeli: Y={}+{}X\".format(lineer_regresyon.intercept_,lineer_regresyon.coef_[0]))"
   ]
  },
  {
   "cell_type": "code",
   "execution_count": 20,
   "metadata": {},
   "outputs": [
    {
     "name": "stdout",
     "output_type": "stream",
     "text": [
      "[3927.92665982]\n",
      "[[37.92539646]]\n"
     ]
    }
   ],
   "source": [
    "print(lineer_regresyon.intercept_)\n",
    "print(lineer_regresyon.coef_)"
   ]
  },
  {
   "cell_type": "code",
   "execution_count": 21,
   "metadata": {},
   "outputs": [
    {
     "data": {
      "text/plain": [
       "0.9904770358014641"
      ]
     },
     "execution_count": 21,
     "metadata": {},
     "output_type": "execute_result"
    }
   ],
   "source": [
    "y_predicted = lineer_regresyon.predict(y.values.reshape(-1,1))\n",
    "r2_score(x,y_predicted)"
   ]
  },
  {
   "cell_type": "code",
   "execution_count": 22,
   "metadata": {},
   "outputs": [
    {
     "name": "stdout",
     "output_type": "stream",
     "text": [
      "Elde edilen regresyon modeli: Y=[3927.92665982]+[37.92539646]X\n"
     ]
    }
   ],
   "source": [
    "print(\"Elde edilen regresyon modeli: Y={}+{}X\".format(lineer_regresyon.intercept_,lineer_regresyon.coef_[0]))"
   ]
  },
  {
   "cell_type": "code",
   "execution_count": 23,
   "metadata": {},
   "outputs": [
    {
     "data": {
      "text/plain": [
       "array([[139852.54757314]])"
      ]
     },
     "execution_count": 23,
     "metadata": {},
     "output_type": "execute_result"
    }
   ],
   "source": [
    "Y=lineer_regresyon.intercept_+lineer_regresyon.coef_*3584\n",
    "Y\n",
    "# Türkiyede 3584 ölüm olduğunda vaka sayısı 131744 du  \n",
    "# Türkiyede 3584 ölüm olduğunda prgramın tahmin ettiği 139852\n",
    "# ölüm sayısı verildiğinde vaka sayısı söyleyen tahmin "
   ]
  },
  {
   "cell_type": "code",
   "execution_count": 24,
   "metadata": {},
   "outputs": [
    {
     "data": {
      "text/plain": [
       "Text(0.5, 0, 'Ölüm Sayısı')"
      ]
     },
     "execution_count": 24,
     "metadata": {},
     "output_type": "execute_result"
    },
    {
     "data": {
      "image/png": "[encoded data removed]",
      "text/plain": [
       "<Figure size 432x288 with 1 Axes>"
      ]
     },
     "metadata": {
      "needs_background": "light"
     },
     "output_type": "display_data"
    }
   ],
   "source": [
    "# ÖLÜ SAYISI VE VAKA SAYISI TAHMİNLEME GRAFİĞİ\n",
    "random_x=np.arange(0,4000,1)\n",
    "plt.plot(random_x,lineer_regresyon.intercept_[0]+lineer_regresyon.coef_[0]*random_x,color=\"red\",label=\"regresyon\")\n",
    "plt.scatter(y.values,x.values)\n",
    "plt.ylabel(\"Vaka Sayısı\",color=\"red\")\n",
    "plt.xlabel(\"Ölüm Sayısı\",color=\"red\")"
   ]
  },
  {
   "cell_type": "code",
   "execution_count": 25,
   "metadata": {},
   "outputs": [],
   "source": [
    "################################################################"
   ]
  },
  {
   "cell_type": "code",
   "execution_count": 26,
   "metadata": {},
   "outputs": [
    {
     "data": {
      "text/html": [
       "<div>\n",
       "<style scoped>\n",
       "    .dataframe tbody tr th:only-of-type {\n",
       "        vertical-align: middle;\n",
       "    }\n",
       "\n",
       "    .dataframe tbody tr th {\n",
       "        vertical-align: top;\n",
       "    }\n",
       "\n",
       "    .dataframe thead th {\n",
       "        text-align: right;\n",
       "    }\n",
       "</style>\n",
       "<table border=\"1\" class=\"dataframe\">\n",
       "  <thead>\n",
       "    <tr style=\"text-align: right;\">\n",
       "      <th></th>\n",
       "      <th>Province/State</th>\n",
       "      <th>Country/Region</th>\n",
       "      <th>Lat</th>\n",
       "      <th>Long</th>\n",
       "      <th>3/11/2020</th>\n",
       "      <th>3/12/2020</th>\n",
       "      <th>3/13/2020</th>\n",
       "      <th>3/14/2020</th>\n",
       "      <th>3/15/2020</th>\n",
       "      <th>3/16/2020</th>\n",
       "      <th>...</th>\n",
       "      <th>4/27/2020</th>\n",
       "      <th>4/28/2020</th>\n",
       "      <th>4/29/2020</th>\n",
       "      <th>4/30/2020</th>\n",
       "      <th>5/1/2020</th>\n",
       "      <th>5/2/2020</th>\n",
       "      <th>5/3/2020</th>\n",
       "      <th>5/4/2020</th>\n",
       "      <th>5/5/2020</th>\n",
       "      <th>5/6/2020</th>\n",
       "    </tr>\n",
       "  </thead>\n",
       "  <tbody>\n",
       "    <tr>\n",
       "      <td>0</td>\n",
       "      <td>NaN</td>\n",
       "      <td>Turkey</td>\n",
       "      <td>39.925533</td>\n",
       "      <td>32.866287</td>\n",
       "      <td>1</td>\n",
       "      <td>1</td>\n",
       "      <td>5</td>\n",
       "      <td>5</td>\n",
       "      <td>18</td>\n",
       "      <td>47</td>\n",
       "      <td>...</td>\n",
       "      <td>112261</td>\n",
       "      <td>114653</td>\n",
       "      <td>117589</td>\n",
       "      <td>120204</td>\n",
       "      <td>122392</td>\n",
       "      <td>124375</td>\n",
       "      <td>126045</td>\n",
       "      <td>127659</td>\n",
       "      <td>129491</td>\n",
       "      <td>131744</td>\n",
       "    </tr>\n",
       "  </tbody>\n",
       "</table>\n",
       "<p>1 rows × 61 columns</p>\n",
       "</div>"
      ],
      "text/plain": [
       "   Province/State Country/Region        Lat       Long  3/11/2020  3/12/2020  \\\n",
       "0             NaN         Turkey  39.925533  32.866287          1          1   \n",
       "\n",
       "   3/13/2020  3/14/2020  3/15/2020  3/16/2020  ...  4/27/2020  4/28/2020  \\\n",
       "0          5          5         18         47  ...     112261     114653   \n",
       "\n",
       "   4/29/2020  4/30/2020  5/1/2020  5/2/2020  5/3/2020  5/4/2020  5/5/2020  \\\n",
       "0     117589     120204    122392    124375    126045    127659    129491   \n",
       "\n",
       "   5/6/2020  \n",
       "0    131744  \n",
       "\n",
       "[1 rows x 61 columns]"
      ]
     },
     "execution_count": 26,
     "metadata": {},
     "output_type": "execute_result"
    }
   ],
   "source": [
    "data1= pd.read_csv(\"time_series_covid_19_confirmed_tr.csv\")\n",
    "data1.head()"
   ]
  },
  {
   "cell_type": "code",
   "execution_count": 27,
   "metadata": {},
   "outputs": [],
   "source": [
    "a=data1.drop(data1.columns[[0,1,2,3,4]],axis=1)"
   ]
  },
  {
   "cell_type": "code",
   "execution_count": 28,
   "metadata": {},
   "outputs": [
    {
     "data": {
      "text/plain": [
       "array([[ 0],\n",
       "       [ 1],\n",
       "       [ 2],\n",
       "       [ 3],\n",
       "       [ 4],\n",
       "       [ 5],\n",
       "       [ 6],\n",
       "       [ 7],\n",
       "       [ 8],\n",
       "       [ 9],\n",
       "       [10],\n",
       "       [11],\n",
       "       [12],\n",
       "       [13],\n",
       "       [14],\n",
       "       [15],\n",
       "       [16],\n",
       "       [17],\n",
       "       [18],\n",
       "       [19],\n",
       "       [20],\n",
       "       [21],\n",
       "       [22],\n",
       "       [23],\n",
       "       [24],\n",
       "       [25],\n",
       "       [26],\n",
       "       [27],\n",
       "       [28],\n",
       "       [29],\n",
       "       [30],\n",
       "       [31],\n",
       "       [32],\n",
       "       [33],\n",
       "       [34],\n",
       "       [35],\n",
       "       [36],\n",
       "       [37],\n",
       "       [38],\n",
       "       [39],\n",
       "       [40],\n",
       "       [41],\n",
       "       [42],\n",
       "       [43],\n",
       "       [44],\n",
       "       [45],\n",
       "       [46],\n",
       "       [47],\n",
       "       [48],\n",
       "       [49],\n",
       "       [50],\n",
       "       [51],\n",
       "       [52],\n",
       "       [53],\n",
       "       [54],\n",
       "       [55]], dtype=int64)"
      ]
     },
     "execution_count": 28,
     "metadata": {},
     "output_type": "execute_result"
    }
   ],
   "source": [
    "df = pd.DataFrame([0,1,2,3,4,5,6,7,8,9,10,11,12,13,14,15,16,17,18,19,20,21,22,23,24,25,26,27,28,29,30,31,32,33,34,35,36,37,38,39,40,41,42,43,44,45,46,47,48,49,50,51,52,53,54,55],columns=['a'])\n",
    "df.values"
   ]
  },
  {
   "cell_type": "code",
   "execution_count": 29,
   "metadata": {},
   "outputs": [
    {
     "data": {
      "text/plain": [
       "LinearRegression(copy_X=True, fit_intercept=True, n_jobs=None, normalize=False)"
      ]
     },
     "execution_count": 29,
     "metadata": {},
     "output_type": "execute_result"
    }
   ],
   "source": [
    "lineer_regresyon.fit(a.values.reshape(-1,1),df.values.reshape(-1,1))"
   ]
  },
  {
   "cell_type": "code",
   "execution_count": 30,
   "metadata": {},
   "outputs": [
    {
     "name": "stdout",
     "output_type": "stream",
     "text": [
      "Elde edilen regresyon modeli: Y=[10.17868799]+[0.00033223]X\n"
     ]
    }
   ],
   "source": [
    "print(\"Elde edilen regresyon modeli: Y={}+{}X\".format(lineer_regresyon.intercept_,lineer_regresyon.coef_[0]))"
   ]
  },
  {
   "cell_type": "code",
   "execution_count": 31,
   "metadata": {},
   "outputs": [
    {
     "data": {
      "text/plain": [
       "array([[53.94824359]])"
      ]
     },
     "execution_count": 31,
     "metadata": {},
     "output_type": "execute_result"
    }
   ],
   "source": [
    "# Türkiyede ki 131744 vaka 56.gün görülmüş \n",
    "# Programın tahmin ettiği 54.gün olmuş \n",
    "Y=lineer_regresyon.intercept_+lineer_regresyon.coef_*131744\n",
    "Y"
   ]
  },
  {
   "cell_type": "code",
   "execution_count": 32,
   "metadata": {},
   "outputs": [
    {
     "data": {
      "text/plain": [
       "0.9493391955640696"
      ]
     },
     "execution_count": 32,
     "metadata": {},
     "output_type": "execute_result"
    }
   ],
   "source": [
    "y_predicted = lineer_regresyon.predict(a.values.reshape(-1,1))\n",
    "r2_score(df,y_predicted)"
   ]
  },
  {
   "cell_type": "code",
   "execution_count": 34,
   "metadata": {},
   "outputs": [
    {
     "data": {
      "text/plain": [
       "Text(0, 0.5, 'Gün Sayısı')"
      ]
     },
     "execution_count": 34,
     "metadata": {},
     "output_type": "execute_result"
    },
    {
     "data": {
      "image/png": "[encoded data removed]",
      "text/plain": [
       "<Figure size 432x288 with 1 Axes>"
      ]
     },
     "metadata": {
      "needs_background": "light"
     },
     "output_type": "display_data"
    }
   ],
   "source": [
    "#gün vaka sayısı arası grafik\n",
    "random_x=np.arange(0,150000,1)\n",
    "plt.plot(random_x,lineer_regresyon.intercept_[0]+lineer_regresyon.coef_[0]*random_x,color=\"red\",label=\"regresyon\")\n",
    "plt.scatter(a.values,df.values)\n",
    "plt.xlabel(\"Vaka Sayısı\",color=\"red\")\n",
    "plt.ylabel(\"Gün Sayısı\",color=\"red\")"
   ]
  },
  {
   "cell_type": "code",
   "execution_count": 36,
   "metadata": {},
   "outputs": [],
   "source": [
    "##########################################"
   ]
  },
  {
   "cell_type": "code",
   "execution_count": 37,
   "metadata": {},
   "outputs": [
    {
     "data": {
      "text/plain": [
       "LinearRegression(copy_X=True, fit_intercept=True, n_jobs=None, normalize=False)"
      ]
     },
     "execution_count": 37,
     "metadata": {},
     "output_type": "execute_result"
    }
   ],
   "source": [
    "lineer_regresyon.fit(df.values.reshape(-1,1),a.values.reshape(-1,1))"
   ]
  },
  {
   "cell_type": "code",
   "execution_count": 38,
   "metadata": {},
   "outputs": [
    {
     "name": "stdout",
     "output_type": "stream",
     "text": [
      "Elde edilen regresyon modeli: Y=[-26443.92857143]+[2857.45974026]X\n"
     ]
    }
   ],
   "source": [
    "print(\"Elde edilen regresyon modeli: Y={}+{}X\".format(lineer_regresyon.intercept_,lineer_regresyon.coef_[0]))"
   ]
  },
  {
   "cell_type": "code",
   "execution_count": 39,
   "metadata": {},
   "outputs": [
    {
     "data": {
      "text/plain": [
       "array([[133573.81688312]])"
      ]
     },
     "execution_count": 39,
     "metadata": {},
     "output_type": "execute_result"
    }
   ],
   "source": [
    "Y=lineer_regresyon.intercept_+lineer_regresyon.coef_*56\n",
    "Y\n",
    "# Türkiyede ki 56.gün 131744 vaka görülmüş \n",
    "# Programın 56.gün için tahmini 133574 olmuştur."
   ]
  },
  {
   "cell_type": "code",
   "execution_count": 40,
   "metadata": {},
   "outputs": [
    {
     "data": {
      "text/plain": [
       "Text(0.5, 0, 'Gün Sayısı')"
      ]
     },
     "execution_count": 40,
     "metadata": {},
     "output_type": "execute_result"
    },
    {
     "data": {
      "image/png": "[encoded data removed]",
      "text/plain": [
       "<Figure size 432x288 with 1 Axes>"
      ]
     },
     "metadata": {
      "needs_background": "light"
     },
     "output_type": "display_data"
    }
   ],
   "source": [
    "#vaka sayısı gün arası ilişki\n",
    "random_x=np.arange(0,70,1)\n",
    "plt.plot(random_x,lineer_regresyon.intercept_[0]+lineer_regresyon.coef_[0]*random_x,color=\"red\",label=\"regresyon\")\n",
    "plt.scatter(df.values,a.values)\n",
    "plt.ylabel(\"Vaka Sayısı\",color=\"red\")\n",
    "plt.xlabel(\"Gün Sayısı\",color=\"red\")"
   ]
  },
  {
   "cell_type": "code",
   "execution_count": 41,
   "metadata": {},
   "outputs": [],
   "source": [
    "##################################"
   ]
  },
  {
   "cell_type": "code",
   "execution_count": 42,
   "metadata": {},
   "outputs": [],
   "source": [
    "k=data.Recovered\n",
    "l=data.Confirmed"
   ]
  },
  {
   "cell_type": "code",
   "execution_count": 43,
   "metadata": {},
   "outputs": [
    {
     "data": {
      "text/plain": [
       "LinearRegression(copy_X=True, fit_intercept=True, n_jobs=None, normalize=False)"
      ]
     },
     "execution_count": 43,
     "metadata": {},
     "output_type": "execute_result"
    }
   ],
   "source": [
    "lineer_regresyon.fit(k.values.reshape(-1,1),l.values.reshape(-1,1))"
   ]
  },
  {
   "cell_type": "code",
   "execution_count": 44,
   "metadata": {},
   "outputs": [
    {
     "name": "stdout",
     "output_type": "stream",
     "text": [
      "Elde edilen regresyon modeli: Y=[25942.78158267]+[1.86596225]X\n"
     ]
    }
   ],
   "source": [
    "print(\"Elde edilen regresyon modeli: Y={}+{}X\".format(lineer_regresyon.intercept_,lineer_regresyon.coef_[0]))"
   ]
  },
  {
   "cell_type": "code",
   "execution_count": 45,
   "metadata": {},
   "outputs": [
    {
     "data": {
      "text/plain": [
       "array([[171864.76127739]])"
      ]
     },
     "execution_count": 45,
     "metadata": {},
     "output_type": "execute_result"
    }
   ],
   "source": [
    "Y=lineer_regresyon.intercept_+lineer_regresyon.coef_*78202 \n",
    "Y\n",
    "# iyileşen sayısı 78202  olduğunda vaka sayısı 131744\n",
    "# programın tahmin ettiği 171864\n",
    "# İyileşen sayısı verildiğinde vaka sayısı tahmin eden model"
   ]
  },
  {
   "cell_type": "code",
   "execution_count": 50,
   "metadata": {},
   "outputs": [
    {
     "data": {
      "text/plain": [
       "Text(0.5, 0, 'iyileşen Sayısı')"
      ]
     },
     "execution_count": 50,
     "metadata": {},
     "output_type": "execute_result"
    },
    {
     "data": {
      "image/png": "[encoded data removed]",
      "text/plain": [
       "<Figure size 432x288 with 1 Axes>"
      ]
     },
     "metadata": {
      "needs_background": "light"
     },
     "output_type": "display_data"
    }
   ],
   "source": [
    "#iyileşen ve vaka sayısını gösteren grafik\n",
    "random_x=np.arange(0,100000,1)\n",
    "plt.plot(random_x,lineer_regresyon.intercept_[0]+lineer_regresyon.coef_[0]*random_x,color=\"red\",label=\"regresyon\")\n",
    "plt.scatter(k.values,l.values)\n",
    "plt.ylabel(\"Vaka Sayısı\",color=\"red\")\n",
    "plt.xlabel(\"iyileşen Sayısı\",color=\"red\")"
   ]
  },
  {
   "cell_type": "code",
   "execution_count": 51,
   "metadata": {},
   "outputs": [],
   "source": [
    "##################################"
   ]
  },
  {
   "cell_type": "code",
   "execution_count": 52,
   "metadata": {},
   "outputs": [
    {
     "data": {
      "text/plain": [
       "LinearRegression(copy_X=True, fit_intercept=True, n_jobs=None, normalize=False)"
      ]
     },
     "execution_count": 52,
     "metadata": {},
     "output_type": "execute_result"
    }
   ],
   "source": [
    "lineer_regresyon.fit(l.values.reshape(-1,1),k.values.reshape(-1,1))"
   ]
  },
  {
   "cell_type": "code",
   "execution_count": 53,
   "metadata": {},
   "outputs": [
    {
     "name": "stdout",
     "output_type": "stream",
     "text": [
      "Elde edilen regresyon modeli: Y=[-6093.80508023]+[0.38345416]X\n"
     ]
    }
   ],
   "source": [
    "print(\"Elde edilen regresyon modeli: Y={}+{}X\".format(lineer_regresyon.intercept_,lineer_regresyon.coef_[0]))"
   ]
  },
  {
   "cell_type": "code",
   "execution_count": 54,
   "metadata": {},
   "outputs": [
    {
     "data": {
      "text/plain": [
       "array([[44423.97994928]])"
      ]
     },
     "execution_count": 54,
     "metadata": {},
     "output_type": "execute_result"
    }
   ],
   "source": [
    "Y=lineer_regresyon.intercept_+lineer_regresyon.coef_*131744\n",
    "Y\n",
    "#  vaka sayısı 131744 olduğunda 78202 iyileşmiş\n",
    "# programın tahmin ettiği 44423\n",
    "# vaka sayısı verildiğinde iyileşen sayısı veren model "
   ]
  },
  {
   "cell_type": "code",
   "execution_count": 55,
   "metadata": {},
   "outputs": [
    {
     "data": {
      "text/plain": [
       "Text(0, 0.5, 'iyileşen Sayısı')"
      ]
     },
     "execution_count": 55,
     "metadata": {},
     "output_type": "execute_result"
    },
    {
     "data": {
      "image/png": "[encoded data removed]",
      "text/plain": [
       "<Figure size 432x288 with 1 Axes>"
      ]
     },
     "metadata": {
      "needs_background": "light"
     },
     "output_type": "display_data"
    }
   ],
   "source": [
    "#iyileşen ve vaka sayısını gösteren grafik\n",
    "random_x=np.arange(0,150000,1)\n",
    "plt.plot(random_x,lineer_regresyon.intercept_[0]+lineer_regresyon.coef_[0]*random_x,color=\"red\",label=\"regresyon\")\n",
    "plt.scatter(l.values,k.values)\n",
    "plt.xlabel(\"Vaka Sayısı\",color=\"red\")\n",
    "plt.ylabel(\"iyileşen Sayısı\",color=\"red\")"
   ]
  },
  {
   "cell_type": "code",
   "execution_count": 68,
   "metadata": {},
   "outputs": [],
   "source": [
    "#############################\n"
   ]
  }
 ],
 "metadata": {
  "kernelspec": {
   "display_name": "Python 3",
   "language": "python",
   "name": "python3"
  },
  "language_info": {
   "codemirror_mode": {
    "name": "ipython",
    "version": 3
   },
   "file_extension": ".py",
   "mimetype": "text/x-python",
   "name": "python",
   "nbconvert_exporter": "python",
   "pygments_lexer": "ipython3",
   "version": "3.8.1"
  }
 },
 "nbformat": 4,
 "nbformat_minor": 2
}
